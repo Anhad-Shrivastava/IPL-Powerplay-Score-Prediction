{
 "cells": [
  {
   "cell_type": "code",
   "execution_count": 81,
   "id": "def09965",
   "metadata": {},
   "outputs": [],
   "source": [
    "import openpyxl\n",
    "import xlrd\n",
    "import regex as re\n",
    "from openpyxl import workbook"
   ]
  },
  {
   "cell_type": "code",
   "execution_count": 82,
   "id": "dc0893aa",
   "metadata": {},
   "outputs": [],
   "source": [
    "wb_matches = openpyxl.load_workbook('all_matches.xlsx')\n",
    "wb_bowler = openpyxl.load_workbook('bowler_data.xlsx')"
   ]
  },
  {
   "cell_type": "code",
   "execution_count": 104,
   "id": "7e49109c",
   "metadata": {},
   "outputs": [],
   "source": [
    "matches=wb_matches.active\n",
    "bowler=wb_bowler.active\n",
    "wb_stadium = openpyxl.load_workbook('stadium_data.xlsx')\n",
    "stadium=wb_stadium.active"
   ]
  },
  {
   "cell_type": "code",
   "execution_count": 105,
   "id": "b3dc52e9",
   "metadata": {},
   "outputs": [],
   "source": [
    "bowlers,stadiums=dict(),dict()\n",
    "    \n",
    "for rowx in range(2,bowler.max_row+1):\n",
    "    player_name1 = str(bowler.cell(row=rowx,column=1).value) \n",
    "    player_name = player_name1[0:1] +\" \"+ player_name1[len(player_name1)-5 : len(player_name1)+1]\n",
    "    \n",
    "    bowlers.update({player_name:rowx})\n",
    "    \n",
    "for rowx in range(2,stadium.max_row+1):\n",
    "    stadium_name = str(stadium.cell(row=rowx,column=1).value)\n",
    "    #stadium_name = stadium_name[0:1] +\" \"+ stadium_name[len(stadium_name)-5 : len(stadium_name)+1]\n",
    "    stadiums.update({stadium_name:rowx})"
   ]
  },
  {
   "cell_type": "code",
   "execution_count": 106,
   "id": "67eeebce",
   "metadata": {},
   "outputs": [],
   "source": [
    "bowlers_col,stadiums_col=dict(),dict()\n",
    "for colx in range(2,bowler.max_column+1):\n",
    "    key = str(bowler.cell(row=1,column=colx).value)\n",
    "    bowlers_col.update({key:colx})\n",
    "\n",
    "for colx in range(2,stadium.max_column+1):\n",
    "    key = str(stadium.cell(row=1,column=colx).value)\n",
    "    stadiums_col.update({key:colx})"
   ]
  },
  {
   "cell_type": "code",
   "execution_count": 107,
   "id": "717c8180",
   "metadata": {},
   "outputs": [],
   "source": [
    "def check_bowler(player_name):\n",
    "    player_name1 = str(player_name)\n",
    "    player_name2 = player_name1[0:1] +\" \"+ player_name1[len(player_name1)-5: len(player_name1)+1]\n",
    "    \n",
    "    #try:\n",
    "    value = bowlers.get(player_name2)\n",
    "    if value is not None:\n",
    "        return value\n",
    "    else:\n",
    "        data_row=bowler.max_row+1\n",
    "        bowler.cell(row=data_row, column=1,value= player_name)\n",
    "        bowlers.update({player_name2 :data_row})\n",
    "        row = bowlers_col.get(player_name2)\n",
    "        return row\n",
    "    \n",
    "def update_bowler(b,col,val):\n",
    "    rowx= check_bowler(b)    \n",
    "    if rowx is not None:\n",
    "        raw_data= bowler.cell(row=rowx, column=bowlers_col.get(col)).value\n",
    "        if raw_data is not None:\n",
    "            data = int(raw_data)\n",
    "        else:\n",
    "            data=0\n",
    "        data+=int(val)\n",
    "        bowler.cell(row=rowx, column=bowlers_col.get(col),value=data)\n",
    "        \n",
    "def check_stadium(name):\n",
    "    value = stadiums.get(name)\n",
    "    if value is not None:\n",
    "        return value\n",
    "    else:\n",
    "        data_row=stadium.max_row+1\n",
    "        stadium.cell(row=data_row, column=1,value= name)\n",
    "        stadiums.update({name :data_row})\n",
    "        row = stadiums_col.get(name)\n",
    "        return row\n",
    "    \n",
    "def update_stadium(s,col,val):\n",
    "    rowx= check_stadium(s)    \n",
    "    if rowx is not None:\n",
    "        raw_data= stadium.cell(row=rowx, column=stadiums_col.get(col)).value\n",
    "        if raw_data is not None:\n",
    "            data = int(raw_data)\n",
    "        else:\n",
    "            data=0\n",
    "        data+=int(val)\n",
    "        stadium.cell(row=rowx, column=stadiums_col.get(col),value=data)"
   ]
  },
  {
   "cell_type": "code",
   "execution_count": null,
   "id": "4d500925",
   "metadata": {},
   "outputs": [],
   "source": [
    "input_file=pd.read_csv(\"inputFile.csv\")\n"
   ]
  },
  {
   "cell_type": "code",
   "execution_count": 108,
   "id": "68333cd8",
   "metadata": {},
   "outputs": [],
   "source": [
    "\n",
    "#batting team scored/bowling team conceded in pp\n",
    "bw,s=\"\",\"\"\n",
    "w,runs,i=0,0,2\n",
    "\n",
    "for rowx in range(41595,matches.max_row+1):\n",
    "    year= int(str(matches.cell(row=rowx,column=2).value)[0:4])\n",
    "    if  2011<= int(year)<= 2021:\n",
    "        ball = float(matches.cell(row=rowx,column=6).value)\n",
    "        innings=matches.cell(row=rowx,column=5).value\n",
    "        k=int(ball)\n",
    "        if k<6 and innings<3:\n",
    "            \n",
    "            #innings change data\n",
    "            if innings!=i:                \n",
    "                #update stadium score,stadium wickets and stadium innings to +1\n",
    "                update_stadium(s,'runs'+str(i),runs)\n",
    "                update_stadium(s,'wickets'+str(i),w)\n",
    "                update_stadium(s,'innings'+str(i),1)\n",
    "                \n",
    "                #reset values\n",
    "                w,runs = 0,0\n",
    "                i = innings\n",
    "                s=matches.cell(row=rowx,column=4).value\n",
    "                   \n",
    "            #runs\n",
    "            runs_off_bat=matches.cell(row=rowx,column=12).value\n",
    "            extras=matches.cell(row=rowx,column=13).value\n",
    "            update_bowler(bw,'runs',runs_off_bat+extras)\n",
    "            runs=runs+ runs_off_bat+ extras\n",
    "            \n",
    "            #wickets\n",
    "            if matches.cell(row=rowx,column=19).value is not None:\n",
    "                update_bowler(bw,'wickets',1)\n",
    "                w+=1"
   ]
  },
  {
   "cell_type": "code",
   "execution_count": 109,
   "id": "9f99ffd0",
   "metadata": {},
   "outputs": [],
   "source": [
    "wb_stadium.save(\"stadium_data.xlsx\")"
   ]
  },
  {
   "cell_type": "code",
   "execution_count": null,
   "id": "230c01ab",
   "metadata": {},
   "outputs": [],
   "source": []
  }
 ],
 "metadata": {
  "kernelspec": {
   "display_name": "Python 3",
   "language": "python",
   "name": "python3"
  },
  "language_info": {
   "codemirror_mode": {
    "name": "ipython",
    "version": 3
   },
   "file_extension": ".py",
   "mimetype": "text/x-python",
   "name": "python",
   "nbconvert_exporter": "python",
   "pygments_lexer": "ipython3",
   "version": "3.8.0"
  }
 },
 "nbformat": 4,
 "nbformat_minor": 5
}
