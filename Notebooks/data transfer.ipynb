{
 "cells": [
  {
   "cell_type": "code",
   "execution_count": 13,
   "id": "40450f9f",
   "metadata": {},
   "outputs": [],
   "source": [
    "import openpyxl\n",
    "import xlrd\n",
    "import regex as re\n",
    "from openpyxl import workbook"
   ]
  },
  {
   "cell_type": "code",
   "execution_count": 14,
   "id": "33be2c76",
   "metadata": {},
   "outputs": [],
   "source": [
    "wb_matches = openpyxl.load_workbook('all_matches.xlsx')\n",
    "wb_batsman= openpyxl.load_workbook('batsman_data.xlsx')\n",
    "wb_bowler = openpyxl.load_workbook('bowler_data.xlsx')"
   ]
  },
  {
   "cell_type": "code",
   "execution_count": 15,
   "id": "fa32bc48",
   "metadata": {},
   "outputs": [],
   "source": [
    "matches=wb_matches.active\n",
    "batsman=wb_batsman.active\n",
    "bowler=wb_bowler.active"
   ]
  },
  {
   "cell_type": "code",
   "execution_count": 16,
   "id": "afa7e052",
   "metadata": {
    "scrolled": false
   },
   "outputs": [],
   "source": [
    "#adding data to dictionary\n",
    "batsmen=dict()\n",
    "bowlers=dict()\n",
    "for rowx in range(2, batsman.max_row+1):\n",
    "    player_name1 = str(batsman.cell(row=rowx, column=1).value)\n",
    "    player_name = player_name1[0:1] +\" \"+ player_name1[len(player_name1)-5 : len(player_name1)+1]\n",
    "    batsmen.update({player_name:rowx})\n",
    "    \n",
    "for rowx in range(2,bowler.max_row+1):\n",
    "    player_name1 = str(bowler.cell(row=rowx,column=1).value) \n",
    "    player_name = player_name1[0:1] +\" \"+ player_name1[len(player_name1)-5 : len(player_name1)+1]\n",
    "    \n",
    "    bowlers.update({player_name:rowx})"
   ]
  },
  {
   "cell_type": "code",
   "execution_count": 17,
   "id": "166db4f4",
   "metadata": {
    "scrolled": true
   },
   "outputs": [],
   "source": [
    "#cell to add dictionary of batsmen_col and bowler_col\n",
    "batsmen_col=dict()\n",
    "bowlers_col=dict()\n",
    "for colx in range(2,batsman.max_column+1):\n",
    "    key= str(batsman.cell(row=1,column=colx).value)\n",
    "    batsmen_col.update({key:colx})\n",
    "for colx in range(2,bowler.max_column+1):\n",
    "    key = str(bowler.cell(row=1,column=colx).value)\n",
    "    bowlers_col.update({key:colx})"
   ]
  },
  {
   "cell_type": "code",
   "execution_count": 20,
   "id": "5f3c82d6",
   "metadata": {
    "scrolled": true
   },
   "outputs": [],
   "source": [
    "#check player's name from all matches in dict and get related data transfer\n",
    "def check_batsman(player_name):\n",
    "    #change player_name into dictionary desired name\n",
    "    player_name1 = str(player_name)\n",
    "    player_name2 = player_name1[0:1] +\" \"+ player_name1[len(player_name1)-5 : len(player_name1)+1]\n",
    "    #try:\n",
    "    value = batsmen.get(player_name2)\n",
    "    if value is not None:\n",
    "        return value\n",
    "    else:\n",
    "        data_row=batsman.max_row+1\n",
    "        batsman.cell(row=data_row, column=1,value= player_name)\n",
    "        batsmen.update({player_name2: data_row})            \n",
    "        value = batsmen.get(player_name2)\n",
    "        return value\n",
    "        \n",
    "def check_bowler(player_name):\n",
    "    player_name1 = str(player_name)\n",
    "    player_name2 = player_name1[0:1] +\" \"+ player_name1[len(player_name1)-5: len(player_name1)+1]\n",
    "    \n",
    "    #try:\n",
    "    value = bowlers.get(player_name2)\n",
    "    if value is not None:\n",
    "        return value\n",
    "    else:\n",
    "        data_row=bowler.max_row+1\n",
    "        bowler.cell(row=data_row, column=1,value= player_name)\n",
    "        bowlers.update({player_name2 :data_row})\n",
    "        value = bowlers_col.get(player_name2)\n",
    "        return value\n",
    "        \n",
    "def update_batsman(b,col,val):\n",
    "    rowx = check_batsman(b)\n",
    "    if rowx is not None:\n",
    "        raw_data = batsman.cell(row=rowx, column=batsmen_col.get(col)).value\n",
    "        if raw_data is not None:\n",
    "            data=int(raw_data)\n",
    "        else:\n",
    "            data=0\n",
    "        data+= int(val)\n",
    "        batsman.cell(row=rowx, column=batsmen_col.get(col),value=data)\n",
    "        \n",
    "def update_bowler(b,col,val):\n",
    "    rowx= check_bowler(b)    \n",
    "    if rowx is not None:\n",
    "        raw_data= bowler.cell(row=rowx, column=bowlers_col.get(col)).value\n",
    "        if raw_data is not None:\n",
    "            data = int(raw_data)\n",
    "        else:\n",
    "            data=0\n",
    "        data+=int(val)\n",
    "        bowler.cell(row=rowx, column=bowlers_col.get(col),value=data)"
   ]
  },
  {
   "cell_type": "code",
   "execution_count": 21,
   "id": "c229aebe",
   "metadata": {},
   "outputs": [],
   "source": [
    "#player change data from am to bd\n",
    "i,wkt,w=0,0,0\n",
    "bs,bns,bw=\"\",\"\",\"\"\n",
    "blist={bs,bns}\n",
    "for rowx in range(94550,matches.max_row+1):\n",
    "    year= int(str(matches.cell(row=rowx,column=2).value)[0:4])\n",
    "    if  2014<= int(year)< 2019:\n",
    "        ball = float(matches.cell(row=rowx,column=6).value)\n",
    "        k=int(ball)\n",
    "        if k<6:\n",
    "            if wkt>=2:\n",
    "                w=2\n",
    "            else: w=wkt\n",
    "            innings = matches.cell(row=rowx,column=5).value\n",
    "            \n",
    "            #innings change data\n",
    "            if innings!=i:\n",
    "                wkt,w = 0,0\n",
    "                i = innings\n",
    "            \n",
    "            #over change data \n",
    "            if round(ball-k,1) ==0.1:\n",
    "                bs=matches.cell(row=rowx,column=9).value\n",
    "                bns=matches.cell(row=rowx,column=10).value\n",
    "                bw=matches.cell(row=rowx,column=11).value\n",
    "                        \n",
    "                update_batsman(bs,\"m\"+str(k+1),1)\n",
    "                update_batsman(bns,\"m\"+str(k+1),1)\n",
    "                update_bowler(bw,\"m(\"+str(k+1)+str(w)+\")\",1)\n",
    "                blist={bs,bns}\n",
    "            \n",
    "            #player change data\n",
    "            else:\n",
    "                if bw!=matches.cell(row=rowx,column=11).value:\n",
    "                    update_bowler(bw,\"m(\"+str(k+1)+str(w)+\")\",1)\n",
    "                \n",
    "                bs=matches.cell(row=rowx,column=9).value\n",
    "                bns=matches.cell(row=rowx,column=10).value\n",
    "                if bs not in blist:\n",
    "                    update_batsman(bs,\"m\"+str(k+1),1)\n",
    "                if bns not in blist:\n",
    "                    update_batsman(bns,\"m\"+str(k+1),1)\n",
    "                blist={bs,bns}\n",
    "                    \n",
    "            #runs\n",
    "            runs_off_bat=matches.cell(row=rowx,column=12).value\n",
    "            extras=matches.cell(row=rowx,column=13).value\n",
    "            update_batsman(bs,\"t\"+str(k+1),runs_off_bat)\n",
    "            update_bowler(bw,\"t(\"+str(k+1)+str(w)+\")\",runs_off_bat+extras)\n",
    "            \n",
    "            #wickets\n",
    "            if matches.cell(row=rowx,column=19).value is not None:\n",
    "                player_dismissed=matches.cell(row=rowx,column=20).value\n",
    "                bw=matches.cell(row=rowx,column=11).value\n",
    "                update_batsman(player_dismissed,\"w\"+str(k+1),1)\n",
    "                update_bowler(bw,\"w\"+str(k+1),1)\n",
    "                wkt+=1\n"
   ]
  },
  {
   "cell_type": "code",
   "execution_count": 22,
   "id": "ceff5cf6",
   "metadata": {},
   "outputs": [],
   "source": [
    "wb_batsman.save(\"batsman_data.xlsx\")\n",
    "wb_bowler.save(\"bowler_data.xlsx\")"
   ]
  },
  {
   "cell_type": "code",
   "execution_count": null,
   "id": "6c5aa244",
   "metadata": {},
   "outputs": [],
   "source": []
  },
  {
   "cell_type": "code",
   "execution_count": null,
   "id": "8b774b0b",
   "metadata": {},
   "outputs": [],
   "source": []
  }
 ],
 "metadata": {
  "kernelspec": {
   "display_name": "Python 3",
   "language": "python",
   "name": "python3"
  },
  "language_info": {
   "codemirror_mode": {
    "name": "ipython",
    "version": 3
   },
   "file_extension": ".py",
   "mimetype": "text/x-python",
   "name": "python",
   "nbconvert_exporter": "python",
   "pygments_lexer": "ipython3",
   "version": "3.9.5"
  }
 },
 "nbformat": 4,
 "nbformat_minor": 5
}
