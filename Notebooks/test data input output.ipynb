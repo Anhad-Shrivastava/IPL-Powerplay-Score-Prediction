{
 "cells": [
  {
   "cell_type": "code",
   "execution_count": 11,
   "id": "c8182d2c",
   "metadata": {},
   "outputs": [],
   "source": [
    "import os\n",
    "import openpyxl\n",
    "import xlrd\n",
    "import regex\n",
    "from openpyxl import workbook"
   ]
  },
  {
   "cell_type": "code",
   "execution_count": 12,
   "id": "cfff7da3",
   "metadata": {},
   "outputs": [],
   "source": [
    "wb_sheet=openpyxl.load_workbook('test_data.xlsx')\n",
    "wb_matches=openpyxl.load_workbook('all_matches.xlsx')\n"
   ]
  },
  {
   "cell_type": "code",
   "execution_count": 3,
   "id": "d82cdf87",
   "metadata": {},
   "outputs": [],
   "source": [
    "ws_sheet=wb_sheet.active\n",
    "ws_matches=wb_matches.active"
   ]
  },
  {
   "cell_type": "code",
   "execution_count": 4,
   "id": "795f83e8",
   "metadata": {},
   "outputs": [],
   "source": [
    "ven,batting_team,bowling_team=\"\",\"\",\"\"\n",
    "inn,score=0,0\n",
    "bat_list,bowl_list=[],[]\n",
    "#add year,match_id and match_date to data\n",
    "match_id, match_date=\"\",\"\"\n",
    "row_idx=2"
   ]
  },
  {
   "cell_type": "code",
   "execution_count": 5,
   "id": "e74ebab5",
   "metadata": {},
   "outputs": [],
   "source": [
    "def to_str(l):\n",
    "    string=\"\"\n",
    "    for i in range(0,len(l)):\n",
    "        string=string+str(l[i])+\", \"\n",
    "    return string"
   ]
  },
  {
   "cell_type": "code",
   "execution_count": 6,
   "id": "a743e1c6",
   "metadata": {},
   "outputs": [],
   "source": [
    "for rowx in range(150000,ws_matches.max_row+1):\n",
    "    year_val = ws_matches.cell(row=rowx,column=2).value\n",
    "    year = int(str(year_val)[0:4])\n",
    "    if  year in {2019,2021} and ws_matches.cell(row=rowx,column=5).value <3:\n",
    "        if inn!=ws_matches.cell(row=rowx,column=5).value:\n",
    "            #store previous data\n",
    "            #C1->venue, C2->innings, C3->batting_team, C4->bowling_team, C5->space separated bat_list,\n",
    "            #C6->space separated bowl_list C7->score\n",
    "            ws_sheet.cell(row=row_idx,column=1,value=ven)\n",
    "            ws_sheet.cell(row=row_idx,column=2,value=inn)\n",
    "            ws_sheet.cell(row=row_idx,column=3,value=batting_team)\n",
    "            ws_sheet.cell(row=row_idx,column=4,value=bowling_team)\n",
    "            bat=to_str(bat_list)\n",
    "            ws_sheet.cell(row=row_idx,column=5,value=bat)\n",
    "            bowl=to_str(bowl_list)\n",
    "            ws_sheet.cell(row=row_idx,column=6,value=bowl)\n",
    "            ws_sheet.cell(row=row_idx,column=7,value=score)\n",
    "            #add year,match_id and match_date to data\n",
    "            ws_sheet.cell(row=row_idx,column=8,value=year)\n",
    "            ws_sheet.cell(row=row_idx,column=9,value=match_id)\n",
    "            ws_sheet.cell(row=row_idx,column=10,value=match_date)\n",
    "            \n",
    "            row_idx+=1\n",
    "            #reset data\n",
    "            ven,batting_team= ws_matches.cell(row=rowx,column=4).value, ws_matches.cell(row=rowx,column=7).value\n",
    "            bowling_team= ws_matches.cell(row=rowx,column=8).value\n",
    "            inn=ws_matches.cell(row=rowx,column=5).value\n",
    "            score=0\n",
    "            bat_list, bowl_list=[], []\n",
    "            #add year,match_id and match_date to data\n",
    "            match_id=ws_matches.cell(row=rowx,column=1).value\n",
    "            match_date=ws_matches.cell(row=rowx,column=3).value\n",
    "            \n",
    "        elif int(ws_matches.cell(row=rowx,column=6).value)<6:\n",
    "            #keep updating data\n",
    "            score= score + ws_matches.cell(row=rowx,column=12).value + ws_matches.cell(row=rowx,column=13).value\n",
    "            bs=str(ws_matches.cell(row=rowx,column=9).value)\n",
    "            bns=str(ws_matches.cell(row=rowx,column=10).value)\n",
    "            bw=str(ws_matches.cell(row=rowx,column=11).value)\n",
    "            if bs not in bat_list:\n",
    "                bat_list.append(bs)\n",
    "            if bns not in bat_list:\n",
    "                bat_list.append(bns)\n",
    "            if bw not in bowl_list:\n",
    "                bowl_list.append(bw)"
   ]
  },
  {
   "cell_type": "code",
   "execution_count": 7,
   "id": "7f2b17ed",
   "metadata": {},
   "outputs": [],
   "source": [
    "wb_sheet.save(\"C:\\\\Users\\\\S P Satsangi\\\\Desktop\\\\IPLPowerplayScore\\\\test_data.xlsx\")"
   ]
  },
  {
   "cell_type": "code",
   "execution_count": null,
   "id": "35e6e1aa",
   "metadata": {},
   "outputs": [],
   "source": []
  }
 ],
 "metadata": {
  "kernelspec": {
   "display_name": "Python 3",
   "language": "python",
   "name": "python3"
  },
  "language_info": {
   "codemirror_mode": {
    "name": "ipython",
    "version": 3
   },
   "file_extension": ".py",
   "mimetype": "text/x-python",
   "name": "python",
   "nbconvert_exporter": "python",
   "pygments_lexer": "ipython3",
   "version": "3.8.0"
  }
 },
 "nbformat": 4,
 "nbformat_minor": 5
}
